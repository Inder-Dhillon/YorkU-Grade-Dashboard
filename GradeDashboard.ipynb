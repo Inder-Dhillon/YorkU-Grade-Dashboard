{
  "nbformat": 4,
  "nbformat_minor": 0,
  "metadata": {
    "colab": {
      "name": "GradeDashboard.ipynb",
      "provenance": [],
      "collapsed_sections": []
    },
    "kernelspec": {
      "name": "python3",
      "display_name": "Python 3"
    }
  },
  "cells": [
    {
      "cell_type": "markdown",
      "metadata": {
        "id": "grh59W50IIOs",
        "colab_type": "text"
      },
      "source": [
        "\n",
        "<img src=\"https://www.inderdhillon.com/files/logo-gray.png\" width=\"100\">\n",
        "\n",
        "<h1>arxiv Data Dashboard</h1>\n",
        "<b>Inder Dhillon</b><br>\n",
        "<i>inderdhillon.com</i><br><br>\n",
        "Wanted to brush up on DataViz, made a dashboard for GPA data from the YorkU Grades website using PowerBI. <br><br>\n",
        "<hr><br>"
      ]
    },
    {
      "cell_type": "markdown",
      "metadata": {
        "id": "ukaCmlHMA4B9",
        "colab_type": "text"
      },
      "source": [
        "Code for scraping the YorkU Course Webpage:"
      ]
    },
    {
      "cell_type": "code",
      "metadata": {
        "id": "UCmnfH6nZMEz",
        "colab_type": "code",
        "colab": {}
      },
      "source": [
        "import requests\n",
        "from bs4 import BeautifulSoup\n",
        "\n",
        "\n",
        "COURSE_PAGE = 'https://wrem.sis.yorku.ca/Apps/WebObjects/ydml.woa/wa/DirectAction/document?name=CourseListv1'\n",
        "LOGIN_PAGE = 'https://passportyork.yorku.ca/ppylogin/ppylogin'\n",
        "\n",
        "\n",
        "username = \"{YORK_USERNAME_HERE}\"\n",
        "password = \"{YORK_PASSWORD_HERE}\"\n",
        "session = requests.Session()\n",
        "\n",
        "r = session.get(COURSE_PAGE)\n",
        "\n",
        "login_data = {'mli': username,\n",
        "            'password': password,\n",
        "            'dologin': 'Login'}\n",
        "soup = BeautifulSoup(r.text, 'html.parser')\n",
        "hiddens = soup.find_all(\"input\", type=\"hidden\")\n",
        "for tag in hiddens:\n",
        "    login_data[tag['name']] = tag['value']\n",
        "r = session.post(LOGIN_PAGE, data=login_data)\n",
        "if not 'You have successfully authenticated' in r.text:\n",
        "    raise Exception('Failed to login')\n",
        "\n",
        "r = session.get(COURSE_PAGE)\n",
        "soup = BeautifulSoup(r.text, 'html.parser')\n",
        "grades_table = soup.find_all('table', class_='bodytext')"
      ],
      "execution_count": 0,
      "outputs": []
    },
    {
      "cell_type": "markdown",
      "metadata": {
        "id": "wBC3NYgPBOXS",
        "colab_type": "text"
      },
      "source": [
        "Importing required libraries:"
      ]
    },
    {
      "cell_type": "code",
      "metadata": {
        "id": "bNgSDePraa60",
        "colab_type": "code",
        "colab": {}
      },
      "source": [
        "import pandas as pd\n",
        "import numpy as np"
      ],
      "execution_count": 0,
      "outputs": []
    },
    {
      "cell_type": "code",
      "metadata": {
        "id": "38MOLam0d8q9",
        "colab_type": "code",
        "colab": {}
      },
      "source": [
        "grades_df = pd.read_html(' '.join(map(str, grades_table)))"
      ],
      "execution_count": 0,
      "outputs": []
    },
    {
      "cell_type": "code",
      "metadata": {
        "id": "UFV1HXEJeHQ1",
        "colab_type": "code",
        "colab": {}
      },
      "source": [
        "grades_df = grades_df[0]"
      ],
      "execution_count": 0,
      "outputs": []
    },
    {
      "cell_type": "markdown",
      "metadata": {
        "id": "RQVqnVtZBTSu",
        "colab_type": "text"
      },
      "source": [
        "Imported Scraped Data into a Pandas DataFrame:"
      ]
    },
    {
      "cell_type": "code",
      "metadata": {
        "id": "9tDR6qgrfq2-",
        "colab_type": "code",
        "outputId": "da31d2f3-3b62-4ee6-ead4-c244522df166",
        "colab": {
          "base_uri": "https://localhost:8080/",
          "height": 204
        }
      },
      "source": [
        "grades_df.head()"
      ],
      "execution_count": 5,
      "outputs": [
        {
          "output_type": "execute_result",
          "data": {
            "text/html": [
              "<div>\n",
              "<style scoped>\n",
              "    .dataframe tbody tr th:only-of-type {\n",
              "        vertical-align: middle;\n",
              "    }\n",
              "\n",
              "    .dataframe tbody tr th {\n",
              "        vertical-align: top;\n",
              "    }\n",
              "\n",
              "    .dataframe thead th {\n",
              "        text-align: right;\n",
              "    }\n",
              "</style>\n",
              "<table border=\"1\" class=\"dataframe\">\n",
              "  <thead>\n",
              "    <tr style=\"text-align: right;\">\n",
              "      <th></th>\n",
              "      <th>Session</th>\n",
              "      <th>Course</th>\n",
              "      <th>Title</th>\n",
              "      <th>Grade</th>\n",
              "    </tr>\n",
              "  </thead>\n",
              "  <tbody>\n",
              "    <tr>\n",
              "      <th>0</th>\n",
              "      <td>FW19</td>\n",
              "      <td>AP ADMS 1000 3.00 H</td>\n",
              "      <td>Introduction to Business</td>\n",
              "      <td>A</td>\n",
              "    </tr>\n",
              "    <tr>\n",
              "      <th>1</th>\n",
              "      <td>FW19</td>\n",
              "      <td>FA FILM 1701 3.00 M</td>\n",
              "      <td>Hollywood: Old and New</td>\n",
              "      <td>A</td>\n",
              "    </tr>\n",
              "    <tr>\n",
              "      <th>2</th>\n",
              "      <td>FW19</td>\n",
              "      <td>FA THEA 3135 3.00 A</td>\n",
              "      <td>Technology in Arts Management</td>\n",
              "      <td>A+</td>\n",
              "    </tr>\n",
              "    <tr>\n",
              "      <th>3</th>\n",
              "      <td>FW19</td>\n",
              "      <td>HH PSYC 3140 3.00 P</td>\n",
              "      <td>Abnormal Psychology</td>\n",
              "      <td>B+</td>\n",
              "    </tr>\n",
              "    <tr>\n",
              "      <th>4</th>\n",
              "      <td>FW19</td>\n",
              "      <td>LE EECS 3000 3.00 A</td>\n",
              "      <td>Professional Practice in Computing</td>\n",
              "      <td>B</td>\n",
              "    </tr>\n",
              "  </tbody>\n",
              "</table>\n",
              "</div>"
            ],
            "text/plain": [
              "  Session               Course                               Title Grade\n",
              "0    FW19  AP ADMS 1000 3.00 H            Introduction to Business     A\n",
              "1    FW19  FA FILM 1701 3.00 M              Hollywood: Old and New     A\n",
              "2    FW19  FA THEA 3135 3.00 A       Technology in Arts Management    A+\n",
              "3    FW19  HH PSYC 3140 3.00 P                 Abnormal Psychology    B+\n",
              "4    FW19  LE EECS 3000 3.00 A  Professional Practice in Computing     B"
            ]
          },
          "metadata": {
            "tags": []
          },
          "execution_count": 5
        }
      ]
    },
    {
      "cell_type": "markdown",
      "metadata": {
        "id": "FYfhejWZBamj",
        "colab_type": "text"
      },
      "source": [
        "Function for adding grade weights:"
      ]
    },
    {
      "cell_type": "code",
      "metadata": {
        "id": "StBX4JZUhKkF",
        "colab_type": "code",
        "colab": {}
      },
      "source": [
        "def grade_weight(row):\n",
        "    if row['Grade'] == \"A+\":\n",
        "        val = 9\n",
        "    elif row['Grade'] == \"A\":\n",
        "        val = 8\n",
        "    elif row['Grade'] == \"B+\":\n",
        "        val = 7\n",
        "    elif row['Grade'] == \"B\":\n",
        "        val = 6\n",
        "    elif row['Grade'] == \"C+\":\n",
        "        val = 5\n",
        "    elif row['Grade'] == \"C\":\n",
        "        val = 4\n",
        "    elif row['Grade'] == \"D+\":\n",
        "        val = 3\n",
        "    elif row['Grade'] == \"D\":\n",
        "        val = 2\n",
        "    elif row['Grade'] == \"E\":\n",
        "        val = 1\n",
        "    elif row['Grade'] == \"F\":\n",
        "        val = 0\n",
        "    else:\n",
        "        val = 0\n",
        "    return val\n",
        "\n",
        "grades_df['Weight'] = grades_df.apply(grade_weight, axis=1)"
      ],
      "execution_count": 0,
      "outputs": []
    },
    {
      "cell_type": "code",
      "metadata": {
        "id": "ECcE6cZ4jzfb",
        "colab_type": "code",
        "outputId": "ea2dc439-dc93-47d6-890f-e0c98d1f0e04",
        "colab": {
          "base_uri": "https://localhost:8080/",
          "height": 204
        }
      },
      "source": [
        "grades_df.head()"
      ],
      "execution_count": 7,
      "outputs": [
        {
          "output_type": "execute_result",
          "data": {
            "text/html": [
              "<div>\n",
              "<style scoped>\n",
              "    .dataframe tbody tr th:only-of-type {\n",
              "        vertical-align: middle;\n",
              "    }\n",
              "\n",
              "    .dataframe tbody tr th {\n",
              "        vertical-align: top;\n",
              "    }\n",
              "\n",
              "    .dataframe thead th {\n",
              "        text-align: right;\n",
              "    }\n",
              "</style>\n",
              "<table border=\"1\" class=\"dataframe\">\n",
              "  <thead>\n",
              "    <tr style=\"text-align: right;\">\n",
              "      <th></th>\n",
              "      <th>Session</th>\n",
              "      <th>Course</th>\n",
              "      <th>Title</th>\n",
              "      <th>Grade</th>\n",
              "      <th>Weight</th>\n",
              "    </tr>\n",
              "  </thead>\n",
              "  <tbody>\n",
              "    <tr>\n",
              "      <th>0</th>\n",
              "      <td>FW19</td>\n",
              "      <td>AP ADMS 1000 3.00 H</td>\n",
              "      <td>Introduction to Business</td>\n",
              "      <td>A</td>\n",
              "      <td>8</td>\n",
              "    </tr>\n",
              "    <tr>\n",
              "      <th>1</th>\n",
              "      <td>FW19</td>\n",
              "      <td>FA FILM 1701 3.00 M</td>\n",
              "      <td>Hollywood: Old and New</td>\n",
              "      <td>A</td>\n",
              "      <td>8</td>\n",
              "    </tr>\n",
              "    <tr>\n",
              "      <th>2</th>\n",
              "      <td>FW19</td>\n",
              "      <td>FA THEA 3135 3.00 A</td>\n",
              "      <td>Technology in Arts Management</td>\n",
              "      <td>A+</td>\n",
              "      <td>9</td>\n",
              "    </tr>\n",
              "    <tr>\n",
              "      <th>3</th>\n",
              "      <td>FW19</td>\n",
              "      <td>HH PSYC 3140 3.00 P</td>\n",
              "      <td>Abnormal Psychology</td>\n",
              "      <td>B+</td>\n",
              "      <td>7</td>\n",
              "    </tr>\n",
              "    <tr>\n",
              "      <th>4</th>\n",
              "      <td>FW19</td>\n",
              "      <td>LE EECS 3000 3.00 A</td>\n",
              "      <td>Professional Practice in Computing</td>\n",
              "      <td>B</td>\n",
              "      <td>6</td>\n",
              "    </tr>\n",
              "  </tbody>\n",
              "</table>\n",
              "</div>"
            ],
            "text/plain": [
              "  Session               Course  ... Grade Weight\n",
              "0    FW19  AP ADMS 1000 3.00 H  ...     A      8\n",
              "1    FW19  FA FILM 1701 3.00 M  ...     A      8\n",
              "2    FW19  FA THEA 3135 3.00 A  ...    A+      9\n",
              "3    FW19  HH PSYC 3140 3.00 P  ...    B+      7\n",
              "4    FW19  LE EECS 3000 3.00 A  ...     B      6\n",
              "\n",
              "[5 rows x 5 columns]"
            ]
          },
          "metadata": {
            "tags": []
          },
          "execution_count": 7
        }
      ]
    },
    {
      "cell_type": "markdown",
      "metadata": {
        "id": "UAx_5f1gBvNL",
        "colab_type": "text"
      },
      "source": [
        "Splitting course data into relative columns: "
      ]
    },
    {
      "cell_type": "code",
      "metadata": {
        "id": "TQA_rIvsaojf",
        "colab_type": "code",
        "colab": {}
      },
      "source": [
        "grades_df[\"Credit\"] = grades_df[\"Course\"].str.slice(-6, -1)\n",
        "grades_df[\"Faculty\"] = grades_df[\"Course\"].str.slice(0, 2)\n",
        "grades_df[\"Subject\"] = grades_df[\"Course\"].str.slice(3,7)\n",
        "grades_df[\"Course\"] = grades_df[\"Course\"].str.slice(3,12)"
      ],
      "execution_count": 0,
      "outputs": []
    },
    {
      "cell_type": "code",
      "metadata": {
        "id": "l1VB0fRmb6Cb",
        "colab_type": "code",
        "colab": {}
      },
      "source": [
        "grades_df = grades_df[[\"Session\", \"Faculty\", \"Subject\", \"Course\", \"Credit\", \"Title\", \"Grade\", \"Weight\"]]"
      ],
      "execution_count": 0,
      "outputs": []
    },
    {
      "cell_type": "code",
      "metadata": {
        "id": "MGtDgU7Xbo4D",
        "colab_type": "code",
        "outputId": "36eb7fac-84ff-4cba-cca2-57c20ad3b0dc",
        "colab": {
          "base_uri": "https://localhost:8080/",
          "height": 204
        }
      },
      "source": [
        "grades_df.head()"
      ],
      "execution_count": 10,
      "outputs": [
        {
          "output_type": "execute_result",
          "data": {
            "text/html": [
              "<div>\n",
              "<style scoped>\n",
              "    .dataframe tbody tr th:only-of-type {\n",
              "        vertical-align: middle;\n",
              "    }\n",
              "\n",
              "    .dataframe tbody tr th {\n",
              "        vertical-align: top;\n",
              "    }\n",
              "\n",
              "    .dataframe thead th {\n",
              "        text-align: right;\n",
              "    }\n",
              "</style>\n",
              "<table border=\"1\" class=\"dataframe\">\n",
              "  <thead>\n",
              "    <tr style=\"text-align: right;\">\n",
              "      <th></th>\n",
              "      <th>Session</th>\n",
              "      <th>Faculty</th>\n",
              "      <th>Subject</th>\n",
              "      <th>Course</th>\n",
              "      <th>Credit</th>\n",
              "      <th>Title</th>\n",
              "      <th>Grade</th>\n",
              "      <th>Weight</th>\n",
              "    </tr>\n",
              "  </thead>\n",
              "  <tbody>\n",
              "    <tr>\n",
              "      <th>0</th>\n",
              "      <td>FW19</td>\n",
              "      <td>AP</td>\n",
              "      <td>ADMS</td>\n",
              "      <td>ADMS 1000</td>\n",
              "      <td>3.00</td>\n",
              "      <td>Introduction to Business</td>\n",
              "      <td>A</td>\n",
              "      <td>8</td>\n",
              "    </tr>\n",
              "    <tr>\n",
              "      <th>1</th>\n",
              "      <td>FW19</td>\n",
              "      <td>FA</td>\n",
              "      <td>FILM</td>\n",
              "      <td>FILM 1701</td>\n",
              "      <td>3.00</td>\n",
              "      <td>Hollywood: Old and New</td>\n",
              "      <td>A</td>\n",
              "      <td>8</td>\n",
              "    </tr>\n",
              "    <tr>\n",
              "      <th>2</th>\n",
              "      <td>FW19</td>\n",
              "      <td>FA</td>\n",
              "      <td>THEA</td>\n",
              "      <td>THEA 3135</td>\n",
              "      <td>3.00</td>\n",
              "      <td>Technology in Arts Management</td>\n",
              "      <td>A+</td>\n",
              "      <td>9</td>\n",
              "    </tr>\n",
              "    <tr>\n",
              "      <th>3</th>\n",
              "      <td>FW19</td>\n",
              "      <td>HH</td>\n",
              "      <td>PSYC</td>\n",
              "      <td>PSYC 3140</td>\n",
              "      <td>3.00</td>\n",
              "      <td>Abnormal Psychology</td>\n",
              "      <td>B+</td>\n",
              "      <td>7</td>\n",
              "    </tr>\n",
              "    <tr>\n",
              "      <th>4</th>\n",
              "      <td>FW19</td>\n",
              "      <td>LE</td>\n",
              "      <td>EECS</td>\n",
              "      <td>EECS 3000</td>\n",
              "      <td>3.00</td>\n",
              "      <td>Professional Practice in Computing</td>\n",
              "      <td>B</td>\n",
              "      <td>6</td>\n",
              "    </tr>\n",
              "  </tbody>\n",
              "</table>\n",
              "</div>"
            ],
            "text/plain": [
              "  Session Faculty Subject  ...                               Title Grade Weight\n",
              "0    FW19      AP    ADMS  ...            Introduction to Business     A      8\n",
              "1    FW19      FA    FILM  ...              Hollywood: Old and New     A      8\n",
              "2    FW19      FA    THEA  ...       Technology in Arts Management    A+      9\n",
              "3    FW19      HH    PSYC  ...                 Abnormal Psychology    B+      7\n",
              "4    FW19      LE    EECS  ...  Professional Practice in Computing     B      6\n",
              "\n",
              "[5 rows x 8 columns]"
            ]
          },
          "metadata": {
            "tags": []
          },
          "execution_count": 10
        }
      ]
    },
    {
      "cell_type": "markdown",
      "metadata": {
        "id": "z05JguQtB8K3",
        "colab_type": "text"
      },
      "source": [
        "Exporting the Pandas DataFrame for use in PowerBI:"
      ]
    },
    {
      "cell_type": "code",
      "metadata": {
        "id": "u0YMe-gJj_dN",
        "colab_type": "code",
        "colab": {}
      },
      "source": [
        "grades_df.to_csv(\"grade_data.csv\")"
      ],
      "execution_count": 0,
      "outputs": []
    },
    {
      "cell_type": "markdown",
      "metadata": {
        "id": "Xuc74OIhFvDI",
        "colab_type": "text"
      },
      "source": [
        "The Final Dashboard:<br><br>\n",
        "![Dashboard](https://github.com/Inder-Dhillon/YorkU-Grade-Dashboard/raw/master/dashboard.png)"
      ]
    },
    {
      "cell_type": "markdown",
      "metadata": {
        "id": "TEAKG8YDHqhb",
        "colab_type": "text"
      },
      "source": [
        "Available:<br>\n",
        "https://app.powerbi.com/view?r=eyJrIjoiOWYzYzg1OGUtNTliYS00OGFhLWE3OTctMGM3YjQ0YmZlNDQ1IiwidCI6ImQxYTBkZTYxLThiODAtNDcxZC1hYjk5LTdkN2Q5NjQxMTA3OSJ9"
      ]
    }
  ]
}